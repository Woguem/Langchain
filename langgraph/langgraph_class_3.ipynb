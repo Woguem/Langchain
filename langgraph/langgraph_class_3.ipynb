{
 "cells": [
  {
   "cell_type": "code",
   "execution_count": 1,
   "id": "d39ce701",
   "metadata": {},
   "outputs": [
    {
     "name": "stdout",
     "output_type": "stream",
     "text": [
      "all ok\n"
     ]
    }
   ],
   "source": [
    "print(\"all ok\")"
   ]
  },
  {
   "cell_type": "code",
   "execution_count": 2,
   "id": "e8992eee",
   "metadata": {},
   "outputs": [],
   "source": [
    "from dotenv import load_dotenv\n",
    "load_dotenv()\n",
    "import os\n",
    "os.environ['GROQ_API_KEY'] = os.getenv(\"GROQ_API_KEY\")"
   ]
  },
  {
   "cell_type": "code",
   "execution_count": 3,
   "id": "6a4b2a73",
   "metadata": {},
   "outputs": [],
   "source": [
    "model=\"deepseek-r1-distill-llama-70b\""
   ]
  },
  {
   "cell_type": "markdown",
   "id": "b0eafda6",
   "metadata": {},
   "source": [
    "### Load the model"
   ]
  },
  {
   "cell_type": "code",
   "execution_count": 4,
   "id": "280b33a5",
   "metadata": {},
   "outputs": [],
   "source": [
    "from langchain_groq import ChatGroq\n"
   ]
  },
  {
   "cell_type": "code",
   "execution_count": 5,
   "id": "cebb4f9c",
   "metadata": {},
   "outputs": [],
   "source": [
    "llm=ChatGroq(model_name=model)"
   ]
  },
  {
   "cell_type": "code",
   "execution_count": 6,
   "id": "3305ace2",
   "metadata": {},
   "outputs": [
    {
     "data": {
      "text/plain": [
       "AIMessage(content='<think>\\n\\n</think>\\n\\nHello! How can I assist you today? 😊', additional_kwargs={}, response_metadata={'token_usage': {'completion_tokens': 16, 'prompt_tokens': 4, 'total_tokens': 20, 'completion_time': 0.0887817, 'prompt_time': 0.000120948, 'queue_time': 0.093594994, 'total_time': 0.088902648}, 'model_name': 'deepseek-r1-distill-llama-70b', 'system_fingerprint': 'fp_1bbe7845ec', 'finish_reason': 'stop', 'logprobs': None}, id='run--c2fce793-bb5d-4284-8d27-c178fc231cef-0', usage_metadata={'input_tokens': 4, 'output_tokens': 16, 'total_tokens': 20})"
      ]
     },
     "execution_count": 6,
     "metadata": {},
     "output_type": "execute_result"
    }
   ],
   "source": [
    "llm.invoke(\"hi\")"
   ]
  },
  {
   "cell_type": "code",
   "execution_count": 7,
   "id": "b78035fc",
   "metadata": {},
   "outputs": [
    {
     "name": "stdout",
     "output_type": "stream",
     "text": [
      "<think>\n",
      "\n",
      "</think>\n",
      "\n",
      "Hello! How can I assist you today? 😊\n"
     ]
    }
   ],
   "source": [
    "print(llm.invoke(\"hi\").content)"
   ]
  },
  {
   "cell_type": "code",
   "execution_count": 8,
   "id": "f457a8e1",
   "metadata": {},
   "outputs": [],
   "source": [
    "# import operator\n",
    "# from typing import List\n",
    "# from langgraph.graph.message import add_messages\n",
    "# from pydantic import BaseModel , Field\n",
    "# from typing import TypedDict, Annotated, Sequence\n",
    "# from langchain_core.messages import BaseMessage\n",
    "# from langchain_core.output_parsers import StrOutputParser\n",
    "# from langchain_core.prompts import ChatPromptTemplate, PromptTemplate\n",
    "\n",
    "from langchain_core.tools import tool\n",
    "from langchain_core.messages import HumanMessage, AIMessage\n",
    "from langgraph.graph import StateGraph,MessagesState,START,END\n",
    "from langgraph.prebuilt import ToolNode"
   ]
  },
  {
   "cell_type": "code",
   "execution_count": 9,
   "id": "6cd721a2",
   "metadata": {},
   "outputs": [],
   "source": [
    "def call_model(state: MessagesState):\n",
    "    messages = state['messages']\n",
    "    response = llm.invoke(messages)\n",
    "    return {\"messages\": [response]}"
   ]
  },
  {
   "cell_type": "code",
   "execution_count": 10,
   "id": "b42f0c9e",
   "metadata": {},
   "outputs": [],
   "source": [
    "# HumanMessage(\"hi how are you?\")"
   ]
  },
  {
   "cell_type": "code",
   "execution_count": 11,
   "id": "6cb3807f",
   "metadata": {},
   "outputs": [],
   "source": [
    "# HumanMessage([\"hi how are you?\"])"
   ]
  },
  {
   "cell_type": "markdown",
   "id": "b925060a",
   "metadata": {},
   "source": [
    "### this code is only for the testing"
   ]
  },
  {
   "cell_type": "code",
   "execution_count": 16,
   "id": "5961c4d7",
   "metadata": {},
   "outputs": [
    {
     "data": {
      "text/plain": [
       "{'messages': [AIMessage(content=\"<think>\\n\\n</think>\\n\\nHello! I'm just a virtual assistant, so I don't have feelings, but I'm here and ready to help you. How are you doing? 😊\", additional_kwargs={}, response_metadata={'token_usage': {'completion_tokens': 38, 'prompt_tokens': 9, 'total_tokens': 47, 'completion_time': 0.190063873, 'prompt_time': 0.000203207, 'queue_time': 0.095049979, 'total_time': 0.19026708}, 'model_name': 'deepseek-r1-distill-llama-70b', 'system_fingerprint': 'fp_1bbe7845ec', 'finish_reason': 'stop', 'logprobs': None}, id='run--f92802c2-a09b-421c-bccd-2e48643da41b-0', usage_metadata={'input_tokens': 9, 'output_tokens': 38, 'total_tokens': 47})]}"
      ]
     },
     "execution_count": 16,
     "metadata": {},
     "output_type": "execute_result"
    }
   ],
   "source": [
    "\n",
    "state={\"messages\":[\"hi hello how are you?\"]}\n",
    "call_model(state)\n"
   ]
  },
  {
   "cell_type": "code",
   "execution_count": null,
   "id": "827f94e6",
   "metadata": {},
   "outputs": [],
   "source": [
    "# from langchain_core.messages import AnyMessage\n",
    "# # class MessagesState(TypedDict):\n",
    "# #     messages: Annotated[list[AnyMessage], add_messages]\n",
    "\n",
    "\n",
    "# class AgentState(TypedDict):\n",
    "#     messages: Annotated[Sequence[BaseMessage], operator.add]"
   ]
  },
  {
   "cell_type": "markdown",
   "id": "485d7e24",
   "metadata": {},
   "source": [
    "## Design a simple workflow without tool calling/"
   ]
  },
  {
   "cell_type": "code",
   "execution_count": 17,
   "id": "82c153bb",
   "metadata": {},
   "outputs": [],
   "source": [
    "workflow=StateGraph(MessagesState)"
   ]
  },
  {
   "cell_type": "code",
   "execution_count": 18,
   "id": "2705aaad",
   "metadata": {},
   "outputs": [
    {
     "data": {
      "text/plain": [
       "<langgraph.graph.state.StateGraph at 0x222d10e9760>"
      ]
     },
     "execution_count": 18,
     "metadata": {},
     "output_type": "execute_result"
    }
   ],
   "source": [
    "workflow.add_node(\"mybot\",call_model)"
   ]
  },
  {
   "cell_type": "code",
   "execution_count": 19,
   "id": "16ffd459",
   "metadata": {},
   "outputs": [
    {
     "data": {
      "text/plain": [
       "<langgraph.graph.state.StateGraph at 0x222d10e9760>"
      ]
     },
     "execution_count": 19,
     "metadata": {},
     "output_type": "execute_result"
    }
   ],
   "source": [
    "workflow.add_edge(START,\"mybot\")"
   ]
  },
  {
   "cell_type": "code",
   "execution_count": 20,
   "id": "dac798b7",
   "metadata": {},
   "outputs": [
    {
     "data": {
      "text/plain": [
       "<langgraph.graph.state.StateGraph at 0x222d10e9760>"
      ]
     },
     "execution_count": 20,
     "metadata": {},
     "output_type": "execute_result"
    }
   ],
   "source": [
    "workflow.add_edge(\"mybot\",END)"
   ]
  },
  {
   "cell_type": "code",
   "execution_count": 21,
   "id": "bed7c9dd",
   "metadata": {},
   "outputs": [],
   "source": [
    "app=workflow.compile()"
   ]
  },
  {
   "cell_type": "code",
   "execution_count": 22,
   "id": "e0f03670",
   "metadata": {},
   "outputs": [
    {
     "data": {
      "image/png": "[encoded data removed]",
      "text/plain": [
       "<IPython.core.display.Image object>"
      ]
     },
     "metadata": {},
     "output_type": "display_data"
    }
   ],
   "source": [
    "from IPython.display import Image, display\n",
    "display(Image(app.get_graph().draw_mermaid_png()))"
   ]
  },
  {
   "cell_type": "code",
   "execution_count": 25,
   "id": "488fde11",
   "metadata": {},
   "outputs": [],
   "source": [
    "input={\"messages\":[\"What is the capital of France?\"]}"
   ]
  },
  {
   "cell_type": "code",
   "execution_count": 26,
   "id": "3e74440c",
   "metadata": {},
   "outputs": [
    {
     "data": {
      "text/plain": [
       "{'messages': [HumanMessage(content='What is the capital of France?', additional_kwargs={}, response_metadata={}, id='f95fe778-8767-4dec-9499-b61324132236'),\n",
       "  AIMessage(content='<think>\\n\\n</think>\\n\\nThe capital of France is Paris.', additional_kwargs={}, response_metadata={'token_usage': {'completion_tokens': 12, 'prompt_tokens': 10, 'total_tokens': 22, 'completion_time': 0.046285843, 'prompt_time': 0.000192267, 'queue_time': 0.093800323, 'total_time': 0.04647811}, 'model_name': 'deepseek-r1-distill-llama-70b', 'system_fingerprint': 'fp_1bbe7845ec', 'finish_reason': 'stop', 'logprobs': None}, id='run--f57a0d71-35f3-464c-9547-2ab846b3c3e0-0', usage_metadata={'input_tokens': 10, 'output_tokens': 12, 'total_tokens': 22})]}"
      ]
     },
     "execution_count": 26,
     "metadata": {},
     "output_type": "execute_result"
    }
   ],
   "source": [
    "app.invoke(input)"
   ]
  },
  {
   "cell_type": "code",
   "execution_count": 29,
   "id": "2ec4f35f",
   "metadata": {},
   "outputs": [
    {
     "name": "stdout",
     "output_type": "stream",
     "text": [
      "Output from mybot Node\n",
      "_______\n",
      "{'messages': [AIMessage(content='<think>\\n\\n</think>\\n\\nThe capital of France is Paris.', additional_kwargs={}, response_metadata={'token_usage': {'completion_tokens': 12, 'prompt_tokens': 10, 'total_tokens': 22, 'completion_time': 0.049993369, 'prompt_time': 0.000187277, 'queue_time': 0.097860738, 'total_time': 0.050180646}, 'model_name': 'deepseek-r1-distill-llama-70b', 'system_fingerprint': 'fp_1bbe7845ec', 'finish_reason': 'stop', 'logprobs': None}, id='run--183b3c21-aed8-49b2-9bd8-21f6a6123e9d-0', usage_metadata={'input_tokens': 10, 'output_tokens': 12, 'total_tokens': 22})]}\n",
      "\n",
      "\n"
     ]
    }
   ],
   "source": [
    "for output in app.stream(input):\n",
    "    # print(output)\n",
    "    for key,value in output.items():\n",
    "        print(f\"Output from {key} Node\")\n",
    "        print(\"_______\")\n",
    "        print(value)\n",
    "        print(\"\\n\")"
   ]
  },
  {
   "cell_type": "markdown",
   "id": "3d83c3d2",
   "metadata": {},
   "source": [
    "### this is a workflow with tool calling"
   ]
  },
  {
   "cell_type": "code",
   "execution_count": 30,
   "id": "8058064e",
   "metadata": {},
   "outputs": [],
   "source": [
    "@tool\n",
    "def search(query:str):\n",
    "    \"\"\"this is my custom tool for searching a weather\"\"\"\n",
    "    if \"delhi\" in query.lower():\n",
    "        return \"the temp is 45 degree and sunny\"\n",
    "    return \"the temp is 25 degree and cloudy\""
   ]
  },
  {
   "cell_type": "markdown",
   "id": "6d332141",
   "metadata": {},
   "source": [
    "## testing a tool"
   ]
  },
  {
   "cell_type": "code",
   "execution_count": 31,
   "id": "2fff1868",
   "metadata": {},
   "outputs": [
    {
     "data": {
      "text/plain": [
       "'the temp is 25 degree and cloudy'"
      ]
     },
     "execution_count": 31,
     "metadata": {},
     "output_type": "execute_result"
    }
   ],
   "source": [
    "search.invoke(\"what is a tempurature in kashmir?\")"
   ]
  },
  {
   "cell_type": "code",
   "execution_count": 97,
   "id": "1f3d8cc9",
   "metadata": {},
   "outputs": [
    {
     "data": {
      "text/plain": [
       "'the temp is 45 degree and sunny'"
      ]
     },
     "execution_count": 97,
     "metadata": {},
     "output_type": "execute_result"
    }
   ],
   "source": [
    "search.invoke(\"what is a tempurature in delhi?\")"
   ]
  },
  {
   "cell_type": "code",
   "execution_count": 32,
   "id": "1338f5f1",
   "metadata": {},
   "outputs": [
    {
     "data": {
      "text/plain": [
       "StructuredTool(name='search', description='this is my custom tool for searching a weather', args_schema=<class 'langchain_core.utils.pydantic.search'>, func=<function search at 0x00000222D1F820C0>)"
      ]
     },
     "execution_count": 32,
     "metadata": {},
     "output_type": "execute_result"
    }
   ],
   "source": [
    "search"
   ]
  },
  {
   "cell_type": "code",
   "execution_count": 33,
   "id": "f006519b",
   "metadata": {},
   "outputs": [
    {
     "data": {
      "text/plain": [
       "AIMessage(content='<think>\\n\\n</think>\\n\\nAs of my last update in July 2024, I cannot provide real-time weather information. However, I can tell you that Delhi typically experiences a hot and humid climate during the summer months (April to June), with temperatures often reaching above 40°C (104°F). The monsoon season usually starts in July and lasts until September, bringing heavy rainfall and humidity. Winters in Delhi (December to February) are cool and foggy, with temperatures ranging from 2°C to 15°C (36°F to 59°F). For the most accurate and up-to-date weather information, please check a reliable weather service or app.', additional_kwargs={}, response_metadata={'token_usage': {'completion_tokens': 133, 'prompt_tokens': 11, 'total_tokens': 144, 'completion_time': 0.483636364, 'prompt_time': 0.000303087, 'queue_time': 0.096446001, 'total_time': 0.483939451}, 'model_name': 'deepseek-r1-distill-llama-70b', 'system_fingerprint': 'fp_1bbe7845ec', 'finish_reason': 'stop', 'logprobs': None}, id='run--39376933-99c2-4dff-ae8d-aa49455a5205-0', usage_metadata={'input_tokens': 11, 'output_tokens': 133, 'total_tokens': 144})"
      ]
     },
     "execution_count": 33,
     "metadata": {},
     "output_type": "execute_result"
    }
   ],
   "source": [
    "llm.invoke(\"what is a weather in delhi?\")"
   ]
  },
  {
   "cell_type": "markdown",
   "id": "c54c1034",
   "metadata": {},
   "source": [
    "### Binding a tool to the LLM\n",
    "\n",
    "### Special Note: use some good for agentic workflow since opensource model might not give you the correct output"
   ]
  },
  {
   "cell_type": "code",
   "execution_count": 90,
   "id": "d7a2f5d5",
   "metadata": {},
   "outputs": [],
   "source": [
    "tools=[search]"
   ]
  },
  {
   "cell_type": "code",
   "execution_count": 91,
   "id": "ed46d32f",
   "metadata": {},
   "outputs": [],
   "source": [
    "llm_with_tool=llm.bind_tools(tools)"
   ]
  },
  {
   "cell_type": "markdown",
   "id": "253e0a60",
   "metadata": {},
   "source": [
    "### testig my llm_with_tool"
   ]
  },
  {
   "cell_type": "code",
   "execution_count": 92,
   "id": "76796e5f",
   "metadata": {},
   "outputs": [],
   "source": [
    "response=llm_with_tool.invoke(\"what is a weather in paris?\")"
   ]
  },
  {
   "cell_type": "code",
   "execution_count": 93,
   "id": "69ad79a3",
   "metadata": {},
   "outputs": [
    {
     "data": {
      "text/plain": [
       "AIMessage(content='', additional_kwargs={'tool_calls': [{'id': 'q8sxy06mx', 'function': {'arguments': '{\"query\":\"weather in Paris\"}', 'name': 'search'}, 'type': 'function'}]}, response_metadata={'token_usage': {'completion_tokens': 151, 'prompt_tokens': 132, 'total_tokens': 283, 'completion_time': 0.689832063, 'prompt_time': 0.008452302, 'queue_time': 0.095100052, 'total_time': 0.698284365}, 'model_name': 'deepseek-r1-distill-llama-70b', 'system_fingerprint': 'fp_1bbe7845ec', 'finish_reason': 'tool_calls', 'logprobs': None}, id='run--22a6dfab-9437-4eb7-ae60-fc5541a9fc16-0', tool_calls=[{'name': 'search', 'args': {'query': 'weather in Paris'}, 'id': 'q8sxy06mx', 'type': 'tool_call'}], usage_metadata={'input_tokens': 132, 'output_tokens': 151, 'total_tokens': 283})"
      ]
     },
     "execution_count": 93,
     "metadata": {},
     "output_type": "execute_result"
    }
   ],
   "source": [
    "response"
   ]
  },
  {
   "cell_type": "code",
   "execution_count": 94,
   "id": "37319035",
   "metadata": {},
   "outputs": [
    {
     "data": {
      "text/plain": [
       "''"
      ]
     },
     "execution_count": 94,
     "metadata": {},
     "output_type": "execute_result"
    }
   ],
   "source": [
    "response.content"
   ]
  },
  {
   "cell_type": "code",
   "execution_count": 95,
   "id": "eca31a2f",
   "metadata": {},
   "outputs": [
    {
     "data": {
      "text/plain": [
       "[{'name': 'search',\n",
       "  'args': {'query': 'weather in Paris'},\n",
       "  'id': 'q8sxy06mx',\n",
       "  'type': 'tool_call'}]"
      ]
     },
     "execution_count": 95,
     "metadata": {},
     "output_type": "execute_result"
    }
   ],
   "source": [
    "response.tool_calls"
   ]
  },
  {
   "cell_type": "code",
   "execution_count": 96,
   "id": "4afb5f8f",
   "metadata": {},
   "outputs": [],
   "source": [
    "def call_model(state:MessagesState):\n",
    "    question=state[\"messages\"]\n",
    "    response=llm_with_tool.invoke(question)\n",
    "    return {\"messages\":[response]}"
   ]
  },
  {
   "cell_type": "markdown",
   "id": "0558693a",
   "metadata": {},
   "source": [
    "### Testing code"
   ]
  },
  {
   "cell_type": "code",
   "execution_count": 97,
   "id": "301d9821",
   "metadata": {},
   "outputs": [],
   "source": [
    "input={\"messages\":[\"what is a weather in delhi?\"]}"
   ]
  },
  {
   "cell_type": "code",
   "execution_count": 98,
   "id": "a14897ff",
   "metadata": {},
   "outputs": [],
   "source": [
    "response=call_model(input)"
   ]
  },
  {
   "cell_type": "code",
   "execution_count": 99,
   "id": "f1b3db7e",
   "metadata": {},
   "outputs": [
    {
     "data": {
      "text/plain": [
       "''"
      ]
     },
     "execution_count": 99,
     "metadata": {},
     "output_type": "execute_result"
    }
   ],
   "source": [
    "response[\"messages\"][-1].content"
   ]
  },
  {
   "cell_type": "code",
   "execution_count": 100,
   "id": "7b85e7ec",
   "metadata": {},
   "outputs": [
    {
     "data": {
      "text/plain": [
       "[{'name': 'search',\n",
       "  'args': {'query': 'weather in Delhi'},\n",
       "  'id': '8r6k8hext',\n",
       "  'type': 'tool_call'}]"
      ]
     },
     "execution_count": 100,
     "metadata": {},
     "output_type": "execute_result"
    }
   ],
   "source": [
    "response[\"messages\"][-1].tool_calls"
   ]
  },
  {
   "cell_type": "markdown",
   "id": "d156c111",
   "metadata": {},
   "source": [
    "### here my router function\n",
    "\n",
    "#### now whatever will come from call_model router funtion will redirect this to the appropriate tool"
   ]
  },
  {
   "cell_type": "code",
   "execution_count": 101,
   "id": "c7d8ec53",
   "metadata": {},
   "outputs": [],
   "source": [
    "def router_function(state:MessagesState):\n",
    "    message=state[\"messages\"]\n",
    "    last_message=message[-1]\n",
    "    if last_message.tool_calls:\n",
    "        return \"tools\"\n",
    "    return END\n",
    "    "
   ]
  },
  {
   "cell_type": "code",
   "execution_count": 102,
   "id": "b1c12586",
   "metadata": {},
   "outputs": [
    {
     "data": {
      "text/plain": [
       "[StructuredTool(name='search', description='this is my custom tool for searching a weather', args_schema=<class 'langchain_core.utils.pydantic.search'>, func=<function search at 0x00000222D1F820C0>)]"
      ]
     },
     "execution_count": 102,
     "metadata": {},
     "output_type": "execute_result"
    }
   ],
   "source": [
    "tools"
   ]
  },
  {
   "cell_type": "code",
   "execution_count": 103,
   "id": "868ca7e0",
   "metadata": {},
   "outputs": [],
   "source": [
    "\n",
    "tool_node=ToolNode(tools)"
   ]
  },
  {
   "cell_type": "code",
   "execution_count": 108,
   "id": "ea3ef8c2",
   "metadata": {},
   "outputs": [
    {
     "data": {
      "text/plain": [
       "tools(tags=None, recurse=True, explode_args=False, func_accepts_config=True, func_accepts={'store': ('__pregel_store', None)}, tools_by_name={'search': StructuredTool(name='search', description='this is my custom tool for searching a weather', args_schema=<class 'langchain_core.utils.pydantic.search'>, func=<function search at 0x00000222D1F820C0>)}, tool_to_state_args={'search': {}}, tool_to_store_arg={'search': None}, handle_tool_errors=True, messages_key='messages')"
      ]
     },
     "execution_count": 108,
     "metadata": {},
     "output_type": "execute_result"
    }
   ],
   "source": [
    "tool_node"
   ]
  },
  {
   "cell_type": "code",
   "execution_count": 109,
   "id": "4fb880fd",
   "metadata": {},
   "outputs": [],
   "source": [
    "workflow2=StateGraph(MessagesState)"
   ]
  },
  {
   "cell_type": "code",
   "execution_count": 110,
   "id": "8b4025d9",
   "metadata": {},
   "outputs": [
    {
     "data": {
      "text/plain": [
       "<langgraph.graph.state.StateGraph at 0x222cb7abce0>"
      ]
     },
     "execution_count": 110,
     "metadata": {},
     "output_type": "execute_result"
    }
   ],
   "source": [
    "workflow2.add_node(\"llmwithtool\",call_model)\n",
    "\n",
    "workflow2.add_node(\"mytools\",tool_node)\n",
    "\n",
    "workflow2.add_edge(START,\"llmwithtool\")\n",
    "\n",
    "workflow2.add_conditional_edges(\"llmwithtool\",\n",
    "                                router_function,\n",
    "                                {\"toolls\":\"mytools\",\n",
    "                                 END:END})"
   ]
  },
  {
   "cell_type": "code",
   "execution_count": 111,
   "id": "c76410e6",
   "metadata": {},
   "outputs": [],
   "source": [
    "app2=workflow2.compile()"
   ]
  },
  {
   "cell_type": "code",
   "execution_count": 112,
   "id": "433259dd",
   "metadata": {},
   "outputs": [
    {
     "data": {
      "image/png": "[encoded data removed]",
      "text/plain": [
       "<IPython.core.display.Image object>"
      ]
     },
     "metadata": {},
     "output_type": "display_data"
    }
   ],
   "source": [
    "from IPython.display import Image, display\n",
    "display(Image(app2.get_graph().draw_mermaid_png()))"
   ]
  },
  {
   "cell_type": "code",
   "execution_count": 60,
   "id": "05a5af7b",
   "metadata": {},
   "outputs": [],
   "source": [
    "response=app2.invoke({\"messages\":[\"what is a weather in bengraluru?\"]})"
   ]
  },
  {
   "cell_type": "code",
   "execution_count": 61,
   "id": "fda5dc62",
   "metadata": {},
   "outputs": [
    {
     "data": {
      "text/plain": [
       "'the temp is 25 degree and cloudy'"
      ]
     },
     "execution_count": 61,
     "metadata": {},
     "output_type": "execute_result"
    }
   ],
   "source": [
    "response[\"messages\"][-1].content"
   ]
  },
  {
   "cell_type": "code",
   "execution_count": 62,
   "id": "c8a1f943",
   "metadata": {},
   "outputs": [
    {
     "data": {
      "text/plain": [
       "{'messages': [HumanMessage(content='what is a weather in delhi?', additional_kwargs={}, response_metadata={}, id='289b92c9-635c-4692-a467-e26681db8cce'),\n",
       "  AIMessage(content='', additional_kwargs={'tool_calls': [{'id': 'grez0q2cw', 'function': {'arguments': '{\"query\":\"weather in Delhi\"}', 'name': 'search'}, 'type': 'function'}]}, response_metadata={'token_usage': {'completion_tokens': 98, 'prompt_tokens': 133, 'total_tokens': 231, 'completion_time': 0.406973012, 'prompt_time': 0.008554001, 'queue_time': 0.094521607, 'total_time': 0.415527013}, 'model_name': 'deepseek-r1-distill-llama-70b', 'system_fingerprint': 'fp_1bbe7845ec', 'finish_reason': 'tool_calls', 'logprobs': None}, id='run--2383d6e2-0cdd-48f6-9117-e825bdd3c274-0', tool_calls=[{'name': 'search', 'args': {'query': 'weather in Delhi'}, 'id': 'grez0q2cw', 'type': 'tool_call'}], usage_metadata={'input_tokens': 133, 'output_tokens': 98, 'total_tokens': 231}),\n",
       "  ToolMessage(content='the temp is 45 degree and sunny', name='search', id='8d1728b2-e837-4112-b7ae-f6ff194a7f0f', tool_call_id='grez0q2cw')]}"
      ]
     },
     "execution_count": 62,
     "metadata": {},
     "output_type": "execute_result"
    }
   ],
   "source": [
    "app2.invoke({\"messages\":[\"what is a weather in delhi?\"]})"
   ]
  },
  {
   "cell_type": "markdown",
   "id": "21d500c1",
   "metadata": {},
   "source": [
    "### use good resoning based model"
   ]
  },
  {
   "cell_type": "code",
   "execution_count": 63,
   "id": "4a593ca6",
   "metadata": {},
   "outputs": [
    {
     "data": {
      "text/plain": [
       "{'messages': [HumanMessage(content='hi how are you?', additional_kwargs={}, response_metadata={}, id='15270d57-8e2c-42fa-86ed-fa911d230827'),\n",
       "  AIMessage(content=\"Hello! I'm just a computer program, so I don't have feelings, but I'm here and ready to help you with whatever you need. How can I assist you today?\", additional_kwargs={}, response_metadata={'token_usage': {'completion_tokens': 159, 'prompt_tokens': 130, 'total_tokens': 289, 'completion_time': 0.593856039, 'prompt_time': 0.008356911, 'queue_time': 0.09600442000000001, 'total_time': 0.60221295}, 'model_name': 'deepseek-r1-distill-llama-70b', 'system_fingerprint': 'fp_1bbe7845ec', 'finish_reason': 'stop', 'logprobs': None}, id='run--f316bb54-2d68-4943-88c8-ec8f96cbe8e0-0', usage_metadata={'input_tokens': 130, 'output_tokens': 159, 'total_tokens': 289})]}"
      ]
     },
     "execution_count": 63,
     "metadata": {},
     "output_type": "execute_result"
    }
   ],
   "source": [
    "app2.invoke({\"messages\":[\"hi how are you?\"]})"
   ]
  },
  {
   "cell_type": "code",
   "execution_count": 64,
   "id": "3ace245c",
   "metadata": {},
   "outputs": [
    {
     "name": "stderr",
     "output_type": "stream",
     "text": [
      "Adding an edge to a graph that has already been compiled. This will not be reflected in the compiled graph.\n"
     ]
    },
    {
     "data": {
      "text/plain": [
       "<langgraph.graph.state.StateGraph at 0x222cb6bc1d0>"
      ]
     },
     "execution_count": 64,
     "metadata": {},
     "output_type": "execute_result"
    }
   ],
   "source": [
    "workflow2.add_edge(\"mytools\",\"llmwithtool\")"
   ]
  },
  {
   "cell_type": "code",
   "execution_count": 65,
   "id": "82591a82",
   "metadata": {},
   "outputs": [],
   "source": [
    "app3=workflow2.compile()"
   ]
  },
  {
   "cell_type": "code",
   "execution_count": 66,
   "id": "32144091",
   "metadata": {},
   "outputs": [
    {
     "data": {
      "image/png": "[encoded data removed]",
      "text/plain": [
       "<IPython.core.display.Image object>"
      ]
     },
     "metadata": {},
     "output_type": "display_data"
    }
   ],
   "source": [
    "from IPython.display import Image, display\n",
    "display(Image(app3.get_graph().draw_mermaid_png()))"
   ]
  },
  {
   "cell_type": "code",
   "execution_count": 69,
   "id": "858505f7",
   "metadata": {},
   "outputs": [
    {
     "name": "stdout",
     "output_type": "stream",
     "text": [
      "here is output from llmwithtool\n",
      "_______\n",
      "{'messages': [AIMessage(content='', additional_kwargs={'tool_calls': [{'id': '1vef8y71g', 'function': {'arguments': '{\"query\":\"weather in New Delhi\"}', 'name': 'search'}, 'type': 'function'}]}, response_metadata={'token_usage': {'completion_tokens': 103, 'prompt_tokens': 134, 'total_tokens': 237, 'completion_time': 0.489024119, 'prompt_time': 0.015446799, 'queue_time': 0.094153683, 'total_time': 0.504470918}, 'model_name': 'deepseek-r1-distill-llama-70b', 'system_fingerprint': 'fp_1bbe7845ec', 'finish_reason': 'tool_calls', 'logprobs': None}, id='run--dbd402fb-84ba-46b8-837e-31bd2ed7e470-0', tool_calls=[{'name': 'search', 'args': {'query': 'weather in New Delhi'}, 'id': '1vef8y71g', 'type': 'tool_call'}], usage_metadata={'input_tokens': 134, 'output_tokens': 103, 'total_tokens': 237})]}\n",
      "\n",
      "\n",
      "here is output from mytools\n",
      "_______\n",
      "{'messages': [ToolMessage(content='the temp is 45 degree and sunny', name='search', id='9ff87a0a-b873-4f20-a461-01c61a3eab9f', tool_call_id='1vef8y71g')]}\n",
      "\n",
      "\n",
      "here is output from llmwithtool\n",
      "_______\n",
      "{'messages': [AIMessage(content=\"The current weather in New Delhi is 45 degrees and sunny. It's quite hot there!\", additional_kwargs={}, response_metadata={'token_usage': {'completion_tokens': 106, 'prompt_tokens': 194, 'total_tokens': 300, 'completion_time': 0.56333119, 'prompt_time': 0.011981734, 'queue_time': 0.096261716, 'total_time': 0.575312924}, 'model_name': 'deepseek-r1-distill-llama-70b', 'system_fingerprint': 'fp_1bbe7845ec', 'finish_reason': 'stop', 'logprobs': None}, id='run--2a28c2e3-e65a-4797-934c-8102c41037ec-0', usage_metadata={'input_tokens': 194, 'output_tokens': 106, 'total_tokens': 300})]}\n",
      "\n",
      "\n"
     ]
    }
   ],
   "source": [
    "for output in app3.stream({\"messages\":[\"what is a weather in new delhi?\"]}):\n",
    "    # print(output)\n",
    "    for key,value in output.items():\n",
    "        print(f\"here is output from {key}\")\n",
    "        print(\"_______\")\n",
    "        print(value)\n",
    "        print(\"\\n\")\n",
    "    "
   ]
  },
  {
   "cell_type": "code",
   "execution_count": 70,
   "id": "e3f1b5c9",
   "metadata": {},
   "outputs": [
    {
     "data": {
      "text/plain": [
       "'what is a weather in delhi can you tell me some good hotel for staying in north delhi'"
      ]
     },
     "execution_count": 70,
     "metadata": {},
     "output_type": "execute_result"
    }
   ],
   "source": [
    "\"what is a weather in delhi can you tell me some good hotel for staying in north delhi\""
   ]
  },
  {
   "cell_type": "code",
   "execution_count": 71,
   "id": "63f8398b",
   "metadata": {},
   "outputs": [],
   "source": [
    "from langgraph.checkpoint.memory import MemorySaver"
   ]
  },
  {
   "cell_type": "code",
   "execution_count": 72,
   "id": "44970651",
   "metadata": {},
   "outputs": [],
   "source": [
    "memory=MemorySaver()"
   ]
  },
  {
   "cell_type": "code",
   "execution_count": 73,
   "id": "2f842b10",
   "metadata": {},
   "outputs": [
    {
     "data": {
      "text/plain": [
       "<langgraph.graph.state.StateGraph at 0x222cb6a6e40>"
      ]
     },
     "execution_count": 73,
     "metadata": {},
     "output_type": "execute_result"
    }
   ],
   "source": [
    "workflow3=StateGraph(MessagesState)\n",
    "\n",
    "workflow3.add_node(\"llmwithtool\",call_model)\n",
    "\n",
    "workflow3.add_node(\"mytools\",tool_node)\n",
    "\n",
    "workflow3.add_edge(START,\"llmwithtool\")\n",
    "\n",
    "workflow3.add_conditional_edges(\"llmwithtool\",\n",
    "                                router_function,\n",
    "                                {\"tools\":\"mytools\",\n",
    "                                 END:END})\n",
    "\n",
    "workflow3.add_edge(\"mytools\",\"llmwithtool\")"
   ]
  },
  {
   "cell_type": "code",
   "execution_count": 74,
   "id": "f193b793",
   "metadata": {},
   "outputs": [],
   "source": [
    "app4=workflow3.compile(checkpointer=memory)"
   ]
  },
  {
   "cell_type": "code",
   "execution_count": 75,
   "id": "4c500b65",
   "metadata": {},
   "outputs": [
    {
     "data": {
      "image/png": "[encoded data removed]",
      "text/plain": [
       "<IPython.core.display.Image object>"
      ]
     },
     "metadata": {},
     "output_type": "display_data"
    }
   ],
   "source": [
    "from IPython.display import Image, display\n",
    "display(Image(app4.get_graph().draw_mermaid_png()))"
   ]
  },
  {
   "cell_type": "code",
   "execution_count": 76,
   "id": "17b132f5",
   "metadata": {},
   "outputs": [],
   "source": [
    "config={\"configurable\": {\"thread_id\": \"1\"}}"
   ]
  },
  {
   "cell_type": "code",
   "execution_count": 77,
   "id": "37b704fd",
   "metadata": {},
   "outputs": [],
   "source": [
    "events=app4.stream(\n",
    "    {\"messages\":[\"what is a weather in new delhi?\"]},config=config,stream_mode=\"values\"\n",
    "    )"
   ]
  },
  {
   "cell_type": "code",
   "execution_count": 79,
   "id": "0fdd14a4",
   "metadata": {},
   "outputs": [],
   "source": [
    "for event in events:\n",
    "    event[\"messages\"][-1].pretty_print()\n",
    "    "
   ]
  },
  {
   "cell_type": "code",
   "execution_count": 80,
   "id": "2738142c",
   "metadata": {},
   "outputs": [],
   "source": [
    "events=app4.stream(\n",
    "    {\"messages\":[\"what is a weather in indore?\"]},config=config,stream_mode=\"values\"\n",
    "    )"
   ]
  },
  {
   "cell_type": "code",
   "execution_count": 81,
   "id": "72809b70",
   "metadata": {},
   "outputs": [
    {
     "name": "stdout",
     "output_type": "stream",
     "text": [
      "================================\u001b[1m Human Message \u001b[0m=================================\n",
      "\n",
      "what is a weather in indore?\n",
      "==================================\u001b[1m Ai Message \u001b[0m==================================\n",
      "Tool Calls:\n",
      "  search (9948v05ct)\n",
      " Call ID: 9948v05ct\n",
      "  Args:\n",
      "    query: weather in Indore\n",
      "=================================\u001b[1m Tool Message \u001b[0m=================================\n",
      "Name: search\n",
      "\n",
      "the temp is 25 degree and cloudy\n",
      "==================================\u001b[1m Ai Message \u001b[0m==================================\n",
      "Tool Calls:\n",
      "  search (dp05dvm82)\n",
      " Call ID: dp05dvm82\n",
      "  Args:\n",
      "    query: weather in Indore\n",
      "=================================\u001b[1m Tool Message \u001b[0m=================================\n",
      "Name: search\n",
      "\n",
      "the temp is 25 degree and cloudy\n",
      "==================================\u001b[1m Ai Message \u001b[0m==================================\n",
      "\n",
      "The weather in Indore is currently 25 degrees and cloudy.\n"
     ]
    }
   ],
   "source": [
    "for event in events:\n",
    "    event[\"messages\"][-1].pretty_print()"
   ]
  },
  {
   "cell_type": "code",
   "execution_count": 82,
   "id": "1bdc1865",
   "metadata": {},
   "outputs": [
    {
     "data": {
      "text/plain": [
       "{'configurable': {'thread_id': '1'}}"
      ]
     },
     "execution_count": 82,
     "metadata": {},
     "output_type": "execute_result"
    }
   ],
   "source": [
    "config"
   ]
  },
  {
   "cell_type": "code",
   "execution_count": 83,
   "id": "b76be85b",
   "metadata": {},
   "outputs": [
    {
     "data": {
      "text/plain": [
       "{'v': 3,\n",
       " 'ts': '2025-07-05T07:48:23.028618+00:00',\n",
       " 'id': '1f059746-d1e9-6b64-800c-053404c31e44',\n",
       " 'channel_versions': {'__start__': '00000000000000000000000000000009.0.4495426043786539',\n",
       "  'messages': '00000000000000000000000000000014.0.4949710388409614',\n",
       "  'branch:to:llmwithtool': '00000000000000000000000000000014.0.6657416116439389',\n",
       "  'branch:to:mytools': '00000000000000000000000000000013.0.7525348026725275'},\n",
       " 'versions_seen': {'__input__': {},\n",
       "  '__start__': {'__start__': '00000000000000000000000000000008.0.9445021520501545'},\n",
       "  'llmwithtool': {'branch:to:llmwithtool': '00000000000000000000000000000013.0.3529345239800121'},\n",
       "  'mytools': {'branch:to:mytools': '00000000000000000000000000000012.0.9258878533414896'}},\n",
       " 'channel_values': {'messages': [HumanMessage(content='what is a weather in new delhi?', additional_kwargs={}, response_metadata={}, id='710c51b6-f81f-4609-9ebd-bd522af75324'),\n",
       "   AIMessage(content='', additional_kwargs={'tool_calls': [{'id': 'ykb5jskp0', 'function': {'arguments': '{\"query\":\"weather in New Delhi\"}', 'name': 'search'}, 'type': 'function'}]}, response_metadata={'token_usage': {'completion_tokens': 103, 'prompt_tokens': 134, 'total_tokens': 237, 'completion_time': 0.462539139, 'prompt_time': 0.008553413, 'queue_time': 0.09187122, 'total_time': 0.471092552}, 'model_name': 'deepseek-r1-distill-llama-70b', 'system_fingerprint': 'fp_1bbe7845ec', 'finish_reason': 'tool_calls', 'logprobs': None}, id='run--6d7b4f17-95dc-4d55-a373-443bff67d250-0', tool_calls=[{'name': 'search', 'args': {'query': 'weather in New Delhi'}, 'id': 'ykb5jskp0', 'type': 'tool_call'}], usage_metadata={'input_tokens': 134, 'output_tokens': 103, 'total_tokens': 237}),\n",
       "   ToolMessage(content='the temp is 45 degree and sunny', name='search', id='24b39f3b-a34b-4fe1-b6de-fb17e99ab8b9', tool_call_id='ykb5jskp0'),\n",
       "   AIMessage(content='', additional_kwargs={'tool_calls': [{'id': '7cy2azfqn', 'function': {'arguments': '{\"query\":\"weather in New Delhi\"}', 'name': 'search'}, 'type': 'function'}]}, response_metadata={'token_usage': {'completion_tokens': 186, 'prompt_tokens': 193, 'total_tokens': 379, 'completion_time': 0.754127796, 'prompt_time': 0.011962402, 'queue_time': 0.094136791, 'total_time': 0.766090198}, 'model_name': 'deepseek-r1-distill-llama-70b', 'system_fingerprint': 'fp_1bbe7845ec', 'finish_reason': 'tool_calls', 'logprobs': None}, id='run--f56551cd-98e1-497d-ae1e-cd6e690c9ab9-0', tool_calls=[{'name': 'search', 'args': {'query': 'weather in New Delhi'}, 'id': '7cy2azfqn', 'type': 'tool_call'}], usage_metadata={'input_tokens': 193, 'output_tokens': 186, 'total_tokens': 379}),\n",
       "   ToolMessage(content='the temp is 45 degree and sunny', name='search', id='a9dd213a-be1a-455e-a4f7-5a95edfe8fd5', tool_call_id='7cy2azfqn'),\n",
       "   AIMessage(content='The weather in New Delhi is currently 45 degrees and sunny.', additional_kwargs={}, response_metadata={'token_usage': {'completion_tokens': 171, 'prompt_tokens': 252, 'total_tokens': 423, 'completion_time': 0.836851117, 'prompt_time': 0.023004157, 'queue_time': 0.093371797, 'total_time': 0.859855274}, 'model_name': 'deepseek-r1-distill-llama-70b', 'system_fingerprint': 'fp_1bbe7845ec', 'finish_reason': 'stop', 'logprobs': None}, id='run--0c5b2f08-ad7e-475a-b2f3-7d4b9d1fe516-0', usage_metadata={'input_tokens': 252, 'output_tokens': 171, 'total_tokens': 423}),\n",
       "   HumanMessage(content='what is a weather in indore?', additional_kwargs={}, response_metadata={}, id='3d7f046d-8f38-4bd4-8d12-382a5266f109'),\n",
       "   AIMessage(content='', additional_kwargs={'tool_calls': [{'id': '9948v05ct', 'function': {'arguments': '{\"query\":\"weather in Indore\"}', 'name': 'search'}, 'type': 'function'}]}, response_metadata={'token_usage': {'completion_tokens': 125, 'prompt_tokens': 276, 'total_tokens': 401, 'completion_time': 0.572566679, 'prompt_time': 0.01768111, 'queue_time': 0.092732611, 'total_time': 0.590247789}, 'model_name': 'deepseek-r1-distill-llama-70b', 'system_fingerprint': 'fp_1bbe7845ec', 'finish_reason': 'tool_calls', 'logprobs': None}, id='run--f34b68d0-af6d-4445-8d73-067bda406f76-0', tool_calls=[{'name': 'search', 'args': {'query': 'weather in Indore'}, 'id': '9948v05ct', 'type': 'tool_call'}], usage_metadata={'input_tokens': 276, 'output_tokens': 125, 'total_tokens': 401}),\n",
       "   ToolMessage(content='the temp is 25 degree and cloudy', name='search', id='e36aa0ba-b06b-4f19-a09e-44af9384502e', tool_call_id='9948v05ct'),\n",
       "   AIMessage(content='', additional_kwargs={'tool_calls': [{'id': 'dp05dvm82', 'function': {'arguments': '{\"query\":\"weather in Indore\"}', 'name': 'search'}, 'type': 'function'}]}, response_metadata={'token_usage': {'completion_tokens': 230, 'prompt_tokens': 334, 'total_tokens': 564, 'completion_time': 0.89866362, 'prompt_time': 0.020963502, 'queue_time': 0.09133205200000001, 'total_time': 0.919627122}, 'model_name': 'deepseek-r1-distill-llama-70b', 'system_fingerprint': 'fp_1bbe7845ec', 'finish_reason': 'tool_calls', 'logprobs': None}, id='run--6180befd-f374-45b3-b614-3e08d5d85a41-0', tool_calls=[{'name': 'search', 'args': {'query': 'weather in Indore'}, 'id': 'dp05dvm82', 'type': 'tool_call'}], usage_metadata={'input_tokens': 334, 'output_tokens': 230, 'total_tokens': 564}),\n",
       "   ToolMessage(content='the temp is 25 degree and cloudy', name='search', id='2789c873-56e6-44d9-aa39-81b89682d1b9', tool_call_id='dp05dvm82'),\n",
       "   AIMessage(content='The weather in Indore is currently 25 degrees and cloudy.', additional_kwargs={}, response_metadata={'token_usage': {'completion_tokens': 199, 'prompt_tokens': 392, 'total_tokens': 591, 'completion_time': 0.850509169, 'prompt_time': 0.025390677, 'queue_time': 0.094784746, 'total_time': 0.875899846}, 'model_name': 'deepseek-r1-distill-llama-70b', 'system_fingerprint': 'fp_1bbe7845ec', 'finish_reason': 'stop', 'logprobs': None}, id='run--4b93880e-72fa-440f-a7f3-d089512e76e4-0', usage_metadata={'input_tokens': 392, 'output_tokens': 199, 'total_tokens': 591})]},\n",
       " 'pending_sends': []}"
      ]
     },
     "execution_count": 83,
     "metadata": {},
     "output_type": "execute_result"
    }
   ],
   "source": [
    "memory.get(config)"
   ]
  },
  {
   "cell_type": "code",
   "execution_count": 84,
   "id": "0e36fcf2",
   "metadata": {},
   "outputs": [],
   "source": [
    "events=app4.stream(\n",
    "    {\"messages\":[\"in which city the temp was 25 degree?\"]},config=config,stream_mode=\"values\"\n",
    "    )"
   ]
  },
  {
   "cell_type": "code",
   "execution_count": 85,
   "id": "01a189a5",
   "metadata": {},
   "outputs": [
    {
     "name": "stdout",
     "output_type": "stream",
     "text": [
      "================================\u001b[1m Human Message \u001b[0m=================================\n",
      "\n",
      "in which city the temp was 25 degree?\n",
      "==================================\u001b[1m Ai Message \u001b[0m==================================\n",
      "\n",
      "The city where the temperature was 25 degrees is **Indore**.\n"
     ]
    }
   ],
   "source": [
    "for event in events:\n",
    "    event[\"messages\"][-1].pretty_print()"
   ]
  },
  {
   "cell_type": "code",
   "execution_count": 86,
   "id": "c69e8480",
   "metadata": {},
   "outputs": [
    {
     "data": {
      "text/plain": [
       "{'v': 3,\n",
       " 'ts': '2025-07-05T07:48:47.669232+00:00',\n",
       " 'id': '1f059747-bce7-6763-800f-714fde9cc65b',\n",
       " 'channel_versions': {'__start__': '00000000000000000000000000000016.0.0728451748775828',\n",
       "  'messages': '00000000000000000000000000000017.0.8858377647778468',\n",
       "  'branch:to:llmwithtool': '00000000000000000000000000000017.0.4065106254772525',\n",
       "  'branch:to:mytools': '00000000000000000000000000000013.0.7525348026725275'},\n",
       " 'versions_seen': {'__input__': {},\n",
       "  '__start__': {'__start__': '00000000000000000000000000000015.0.3690436159968079'},\n",
       "  'llmwithtool': {'branch:to:llmwithtool': '00000000000000000000000000000016.0.2080547025952686'},\n",
       "  'mytools': {'branch:to:mytools': '00000000000000000000000000000012.0.9258878533414896'}},\n",
       " 'channel_values': {'messages': [HumanMessage(content='what is a weather in new delhi?', additional_kwargs={}, response_metadata={}, id='710c51b6-f81f-4609-9ebd-bd522af75324'),\n",
       "   AIMessage(content='', additional_kwargs={'tool_calls': [{'id': 'ykb5jskp0', 'function': {'arguments': '{\"query\":\"weather in New Delhi\"}', 'name': 'search'}, 'type': 'function'}]}, response_metadata={'token_usage': {'completion_tokens': 103, 'prompt_tokens': 134, 'total_tokens': 237, 'completion_time': 0.462539139, 'prompt_time': 0.008553413, 'queue_time': 0.09187122, 'total_time': 0.471092552}, 'model_name': 'deepseek-r1-distill-llama-70b', 'system_fingerprint': 'fp_1bbe7845ec', 'finish_reason': 'tool_calls', 'logprobs': None}, id='run--6d7b4f17-95dc-4d55-a373-443bff67d250-0', tool_calls=[{'name': 'search', 'args': {'query': 'weather in New Delhi'}, 'id': 'ykb5jskp0', 'type': 'tool_call'}], usage_metadata={'input_tokens': 134, 'output_tokens': 103, 'total_tokens': 237}),\n",
       "   ToolMessage(content='the temp is 45 degree and sunny', name='search', id='24b39f3b-a34b-4fe1-b6de-fb17e99ab8b9', tool_call_id='ykb5jskp0'),\n",
       "   AIMessage(content='', additional_kwargs={'tool_calls': [{'id': '7cy2azfqn', 'function': {'arguments': '{\"query\":\"weather in New Delhi\"}', 'name': 'search'}, 'type': 'function'}]}, response_metadata={'token_usage': {'completion_tokens': 186, 'prompt_tokens': 193, 'total_tokens': 379, 'completion_time': 0.754127796, 'prompt_time': 0.011962402, 'queue_time': 0.094136791, 'total_time': 0.766090198}, 'model_name': 'deepseek-r1-distill-llama-70b', 'system_fingerprint': 'fp_1bbe7845ec', 'finish_reason': 'tool_calls', 'logprobs': None}, id='run--f56551cd-98e1-497d-ae1e-cd6e690c9ab9-0', tool_calls=[{'name': 'search', 'args': {'query': 'weather in New Delhi'}, 'id': '7cy2azfqn', 'type': 'tool_call'}], usage_metadata={'input_tokens': 193, 'output_tokens': 186, 'total_tokens': 379}),\n",
       "   ToolMessage(content='the temp is 45 degree and sunny', name='search', id='a9dd213a-be1a-455e-a4f7-5a95edfe8fd5', tool_call_id='7cy2azfqn'),\n",
       "   AIMessage(content='The weather in New Delhi is currently 45 degrees and sunny.', additional_kwargs={}, response_metadata={'token_usage': {'completion_tokens': 171, 'prompt_tokens': 252, 'total_tokens': 423, 'completion_time': 0.836851117, 'prompt_time': 0.023004157, 'queue_time': 0.093371797, 'total_time': 0.859855274}, 'model_name': 'deepseek-r1-distill-llama-70b', 'system_fingerprint': 'fp_1bbe7845ec', 'finish_reason': 'stop', 'logprobs': None}, id='run--0c5b2f08-ad7e-475a-b2f3-7d4b9d1fe516-0', usage_metadata={'input_tokens': 252, 'output_tokens': 171, 'total_tokens': 423}),\n",
       "   HumanMessage(content='what is a weather in indore?', additional_kwargs={}, response_metadata={}, id='3d7f046d-8f38-4bd4-8d12-382a5266f109'),\n",
       "   AIMessage(content='', additional_kwargs={'tool_calls': [{'id': '9948v05ct', 'function': {'arguments': '{\"query\":\"weather in Indore\"}', 'name': 'search'}, 'type': 'function'}]}, response_metadata={'token_usage': {'completion_tokens': 125, 'prompt_tokens': 276, 'total_tokens': 401, 'completion_time': 0.572566679, 'prompt_time': 0.01768111, 'queue_time': 0.092732611, 'total_time': 0.590247789}, 'model_name': 'deepseek-r1-distill-llama-70b', 'system_fingerprint': 'fp_1bbe7845ec', 'finish_reason': 'tool_calls', 'logprobs': None}, id='run--f34b68d0-af6d-4445-8d73-067bda406f76-0', tool_calls=[{'name': 'search', 'args': {'query': 'weather in Indore'}, 'id': '9948v05ct', 'type': 'tool_call'}], usage_metadata={'input_tokens': 276, 'output_tokens': 125, 'total_tokens': 401}),\n",
       "   ToolMessage(content='the temp is 25 degree and cloudy', name='search', id='e36aa0ba-b06b-4f19-a09e-44af9384502e', tool_call_id='9948v05ct'),\n",
       "   AIMessage(content='', additional_kwargs={'tool_calls': [{'id': 'dp05dvm82', 'function': {'arguments': '{\"query\":\"weather in Indore\"}', 'name': 'search'}, 'type': 'function'}]}, response_metadata={'token_usage': {'completion_tokens': 230, 'prompt_tokens': 334, 'total_tokens': 564, 'completion_time': 0.89866362, 'prompt_time': 0.020963502, 'queue_time': 0.09133205200000001, 'total_time': 0.919627122}, 'model_name': 'deepseek-r1-distill-llama-70b', 'system_fingerprint': 'fp_1bbe7845ec', 'finish_reason': 'tool_calls', 'logprobs': None}, id='run--6180befd-f374-45b3-b614-3e08d5d85a41-0', tool_calls=[{'name': 'search', 'args': {'query': 'weather in Indore'}, 'id': 'dp05dvm82', 'type': 'tool_call'}], usage_metadata={'input_tokens': 334, 'output_tokens': 230, 'total_tokens': 564}),\n",
       "   ToolMessage(content='the temp is 25 degree and cloudy', name='search', id='2789c873-56e6-44d9-aa39-81b89682d1b9', tool_call_id='dp05dvm82'),\n",
       "   AIMessage(content='The weather in Indore is currently 25 degrees and cloudy.', additional_kwargs={}, response_metadata={'token_usage': {'completion_tokens': 199, 'prompt_tokens': 392, 'total_tokens': 591, 'completion_time': 0.850509169, 'prompt_time': 0.025390677, 'queue_time': 0.094784746, 'total_time': 0.875899846}, 'model_name': 'deepseek-r1-distill-llama-70b', 'system_fingerprint': 'fp_1bbe7845ec', 'finish_reason': 'stop', 'logprobs': None}, id='run--4b93880e-72fa-440f-a7f3-d089512e76e4-0', usage_metadata={'input_tokens': 392, 'output_tokens': 199, 'total_tokens': 591}),\n",
       "   HumanMessage(content='in which city the temp was 25 degree?', additional_kwargs={}, response_metadata={}, id='4eb0e284-e6bf-4338-9274-8813322487d0'),\n",
       "   AIMessage(content='The city where the temperature was 25 degrees is **Indore**.', additional_kwargs={}, response_metadata={'token_usage': {'completion_tokens': 184, 'prompt_tokens': 418, 'total_tokens': 602, 'completion_time': 0.759698774, 'prompt_time': 0.026812378, 'queue_time': 0.093652927, 'total_time': 0.786511152}, 'model_name': 'deepseek-r1-distill-llama-70b', 'system_fingerprint': 'fp_1bbe7845ec', 'finish_reason': 'stop', 'logprobs': None}, id='run--ffbc45ba-1dac-4b41-b11c-6339f2b15dd4-0', usage_metadata={'input_tokens': 418, 'output_tokens': 184, 'total_tokens': 602})]},\n",
       " 'pending_sends': []}"
      ]
     },
     "execution_count": 86,
     "metadata": {},
     "output_type": "execute_result"
    }
   ],
   "source": [
    "memory.get(config)"
   ]
  },
  {
   "cell_type": "code",
   "execution_count": null,
   "id": "c7967618",
   "metadata": {},
   "outputs": [],
   "source": []
  }
 ],
 "metadata": {
  "kernelspec": {
   "display_name": "my_virtual_lang",
   "language": "python",
   "name": "python3"
  },
  "language_info": {
   "codemirror_mode": {
    "name": "ipython",
    "version": 3
   },
   "file_extension": ".py",
   "mimetype": "text/x-python",
   "name": "python",
   "nbconvert_exporter": "python",
   "pygments_lexer": "ipython3",
   "version": "3.12.10"
  }
 },
 "nbformat": 4,
 "nbformat_minor": 5
}
