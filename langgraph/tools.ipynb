{
 "cells": [
  {
   "cell_type": "code",
   "execution_count": 1,
   "id": "4341d919",
   "metadata": {},
   "outputs": [],
   "source": [
    "from langchain_community.tools import WikipediaQueryRun"
   ]
  },
  {
   "cell_type": "code",
   "execution_count": 2,
   "id": "3c7f01e1",
   "metadata": {},
   "outputs": [],
   "source": [
    "from langchain_community.utilities import WikipediaAPIWrapper"
   ]
  },
  {
   "cell_type": "code",
   "execution_count": 3,
   "id": "2fdd72bc",
   "metadata": {},
   "outputs": [],
   "source": [
    "api_wrapper=WikipediaAPIWrapper(top_k_results=5,doc_content_chars_max= 500)"
   ]
  },
  {
   "cell_type": "code",
   "execution_count": 4,
   "id": "694ea1a8",
   "metadata": {},
   "outputs": [],
   "source": [
    "wiki_tool=WikipediaQueryRun(api_wrapper=api_wrapper)"
   ]
  },
  {
   "cell_type": "code",
   "execution_count": 5,
   "id": "8a450b4b",
   "metadata": {},
   "outputs": [
    {
     "data": {
      "text/plain": [
       "'wikipedia'"
      ]
     },
     "execution_count": 5,
     "metadata": {},
     "output_type": "execute_result"
    }
   ],
   "source": [
    "wiki_tool.name"
   ]
  },
  {
   "cell_type": "code",
   "execution_count": 6,
   "id": "0f46f450",
   "metadata": {},
   "outputs": [
    {
     "data": {
      "text/plain": [
       "'A wrapper around Wikipedia. Useful for when you need to answer general questions about people, places, companies, facts, historical events, or other subjects. Input should be a search query.'"
      ]
     },
     "execution_count": 6,
     "metadata": {},
     "output_type": "execute_result"
    }
   ],
   "source": [
    "wiki_tool.description"
   ]
  },
  {
   "cell_type": "code",
   "execution_count": 7,
   "id": "0aa4502c",
   "metadata": {},
   "outputs": [
    {
     "data": {
      "text/plain": [
       "{'query': {'description': 'query to look up on wikipedia',\n",
       "  'title': 'Query',\n",
       "  'type': 'string'}}"
      ]
     },
     "execution_count": 7,
     "metadata": {},
     "output_type": "execute_result"
    }
   ],
   "source": [
    "wiki_tool.args"
   ]
  },
  {
   "cell_type": "code",
   "execution_count": 9,
   "id": "99477475",
   "metadata": {},
   "outputs": [
    {
     "data": {
      "text/plain": [
       "'Page: Agentic AI\\nSummary: Agentic AI is a class of artificial intelligence that focuses on autonomous systems that can make decisions and perform tasks without human intervention. The independent systems automatically respond to conditions, to produce process results. The field is closely linked to agentic automation, also known as agent-based process management systems, when applied to process automation. Applications include software development, customer support, cybersecurity and business in'"
      ]
     },
     "execution_count": 9,
     "metadata": {},
     "output_type": "execute_result"
    }
   ],
   "source": [
    "wiki_tool.run({\"query\":\"agentic AI\"})"
   ]
  },
  {
   "cell_type": "code",
   "execution_count": 11,
   "id": "bf3a63ed",
   "metadata": {},
   "outputs": [
    {
     "name": "stderr",
     "output_type": "stream",
     "text": [
      "c:\\Users\\p09276\\Post_doc_Yen_Fred\\Projet_Machine_Learning_Julien\\Portfiolo\\Agentic_AI_2_0\\Langchain\\my_virtual_lang\\Lib\\site-packages\\wikipedia\\wikipedia.py:389: GuessedAtParserWarning: No parser was explicitly specified, so I'm using the best available HTML parser for this system (\"lxml\"). This usually isn't a problem, but if you run this code on another system, or in a different virtual environment, it may use a different parser and behave differently.\n",
      "\n",
      "The code that caused this warning is on line 389 of the file c:\\Users\\p09276\\Post_doc_Yen_Fred\\Projet_Machine_Learning_Julien\\Portfiolo\\Agentic_AI_2_0\\Langchain\\my_virtual_lang\\Lib\\site-packages\\wikipedia\\wikipedia.py. To get rid of this warning, pass the additional argument 'features=\"lxml\"' to the BeautifulSoup constructor.\n",
      "\n",
      "  lis = BeautifulSoup(html).find_all('li')\n"
     ]
    },
    {
     "data": {
      "text/plain": [
       "\"Page: Paris Saint-Germain FC\\nSummary: Paris Saint-Germain Football Club, commonly referred to as Paris Saint-Germain (French: [paʁi sɛ̃ʒɛʁmɛ̃]) or simply PSG, is a French professional football club based in Paris. They compete in Ligue 1, the top division of French football. With 52 major trophies won, PSG are the most decorated club in France and are generally considered the country's biggest club. \\nFounded in 1970, following the merger of Paris FC and Stade Saint-Germain, PSG have the most con\""
      ]
     },
     "execution_count": 11,
     "metadata": {},
     "output_type": "execute_result"
    }
   ],
   "source": [
    "wiki_tool.run(\"PSG\")"
   ]
  },
  {
   "cell_type": "code",
   "execution_count": 3,
   "id": "a79c6cc6",
   "metadata": {},
   "outputs": [],
   "source": [
    "from langchain_community.tools import YouTubeSearchTool"
   ]
  },
  {
   "cell_type": "code",
   "execution_count": 4,
   "id": "c35d1810",
   "metadata": {},
   "outputs": [],
   "source": [
    "tool=YouTubeSearchTool()"
   ]
  },
  {
   "cell_type": "code",
   "execution_count": 5,
   "id": "3dfe8f0e",
   "metadata": {},
   "outputs": [
    {
     "data": {
      "text/plain": [
       "'youtube_search'"
      ]
     },
     "execution_count": 5,
     "metadata": {},
     "output_type": "execute_result"
    }
   ],
   "source": [
    "tool.name"
   ]
  },
  {
   "cell_type": "code",
   "execution_count": 6,
   "id": "31dd4376",
   "metadata": {},
   "outputs": [
    {
     "data": {
      "text/plain": [
       "'search for youtube videos associated with a person. the input to this tool should be a comma separated list, the first part contains a person name and the second a number that is the maximum number of video results to return aka num_results. the second part is optional'"
      ]
     },
     "execution_count": 6,
     "metadata": {},
     "output_type": "execute_result"
    }
   ],
   "source": [
    "tool.description"
   ]
  },
  {
   "cell_type": "code",
   "execution_count": 8,
   "id": "ed05eed1",
   "metadata": {},
   "outputs": [
    {
     "name": "stdout",
     "output_type": "stream",
     "text": [
      "\u001b[32;1m\u001b[1;3m['https://www.youtube.com/watch?v=-GdWEiJsVDA&pp=ugMJCgVlbi1JThABugUHEgVlbi1JTsoFDHN1bm55IHNhdml0YdgHAQ%3D%3D', 'https://www.youtube.com/watch?v=ktjJAxaX8rc&pp=ugMJCgVlbi1JThABugUHEgVlbi1JTsoFDHN1bm55IHNhdml0YdgHAQ%3D%3D']\u001b[0m"
     ]
    },
    {
     "data": {
      "text/plain": [
       "\"['https://www.youtube.com/watch?v=-GdWEiJsVDA&pp=ugMJCgVlbi1JThABugUHEgVlbi1JTsoFDHN1bm55IHNhdml0YdgHAQ%3D%3D', 'https://www.youtube.com/watch?v=ktjJAxaX8rc&pp=ugMJCgVlbi1JThABugUHEgVlbi1JTsoFDHN1bm55IHNhdml0YdgHAQ%3D%3D']\""
      ]
     },
     "execution_count": 8,
     "metadata": {},
     "output_type": "execute_result"
    }
   ],
   "source": [
    "tool.run(\"sunny savita\", 2)"
   ]
  },
  {
   "cell_type": "code",
   "execution_count": 11,
   "id": "7ab2dde0",
   "metadata": {},
   "outputs": [
    {
     "data": {
      "text/plain": [
       "\"['https://www.youtube.com/watch?v=p4pHsuEf4Ms&pp=ugMGCgJmchABugUEEgJmcsoFCmtyaXNoIG5haWvYBwE%3D', 'https://www.youtube.com/watch?v=q_-FFcknQn0&pp=ugMGCgJmchABugUEEgJmcsoFCmtyaXNoIG5haWvYBwE%3D']\""
      ]
     },
     "execution_count": 11,
     "metadata": {},
     "output_type": "execute_result"
    }
   ],
   "source": [
    "tool.run(\"krish naik\")"
   ]
  },
  {
   "cell_type": "code",
   "execution_count": 3,
   "id": "21d809df",
   "metadata": {},
   "outputs": [],
   "source": [
    "from langchain_community.tools.tavily_search import TavilySearchResults"
   ]
  },
  {
   "cell_type": "code",
   "execution_count": 4,
   "id": "16ed7cac",
   "metadata": {},
   "outputs": [],
   "source": [
    "import os\n",
    "TAVILY_API_KEY=os.getenv(\"TAVILY_API_KEY\")"
   ]
  },
  {
   "cell_type": "code",
   "execution_count": 5,
   "id": "f745e41b",
   "metadata": {},
   "outputs": [],
   "source": [
    "tool=TavilySearchResults(tavily_api_key=TAVILY_API_KEY)"
   ]
  },
  {
   "cell_type": "code",
   "execution_count": 7,
   "id": "42cf9b63",
   "metadata": {},
   "outputs": [
    {
     "data": {
      "text/plain": [
       "[{'title': 'Two dead and hundreds arrested in France after PSG win soccer ...',\n",
       "  'url': 'https://www.npr.org/2025/06/01/nx-s1-5419458/two-dead-hundreds-arrested-france-psg-champions-league-win-paris',\n",
       "  'content': \"Soccer fans celebrate PSG's victory on the Champs-Elysees avenue, with the Arc de Triomphe in background, after the Champions League final soccer match between Paris Saint-Germain and Inter Milan, Sunday, June 1, 2025 in Paris.\\n**Aurelien Morissard/AP**\\n****hide caption****\\n\\nPARIS — Two fans died and a police officer is in a coma after mass nationwide celebrations for Paris Saint-Germain's historic Champions League victory, European soccer's biggest prize, French authorities said Sunday. [...] ![Soccer fans celebrate PSG's victory on the Champs-Elysees avenue, with the Arc de Triomphe in background, after the Champions League final soccer match between Paris Saint-Germain and Inter Milan, Sunday, June 1, 2025 in Paris.](https://npr.brightspotcdn.com/dims3/default/strip/false/crop/8640x5760+0+0/resize/1100/quality/50/format/jpeg/?url=http%3A%2F%2Fnpr-brightspot.s3.amazonaws.com%2F83%2Ffe%2Fadb7f4344fcea88fa957fdd94923%2Fap25151826684337.jpg) [...] A 17-year-old boy was stabbed to death in the city of Dax during a PSG street party after Saturday night's final in Munich, the national police service said. A man was killed in Paris when his scooter was hit by a car during PSG celebrations, the interior minister's office said. The circumstances of both are being investigated.\",\n",
       "  'score': 0.8533396},\n",
       " {'title': \"Celebrations after PSG's Champions League win turn deadly as 2 ...\",\n",
       "  'url': 'https://www.cbsnews.com/news/paris-saint-germain-champions-league-celebrations-france/',\n",
       "  'content': \"Watch CBS News\\n\\n# Celebrations after PSG's Champions League win turn deadly as 2 fans killed, cop in coma\\n\\nUpdated on: June 1, 2025 / 9:51 AM EDT\\n/ CBS/AP\\n\\nTwo fans died and a police officer was placed under an induced coma after celebrations around France, to mark Paris Saint-Germain's historic Champions League victory, turned violent Saturday night, French authorities said Sunday. The Champions League is Europe's biggest soccer prize. [...] A 17-year-old boy was stabbed to death in the western city of Dax during a PSG street party after Saturday night's final in Munich, the national police service said. A man in his 20s was killed in Paris when his scooter was hit by a car during PSG celebrations, the interior minister's office said. The circumstances of both are being investigated. [...] A police officer was hit accidentally by fireworks at a PSG gathering in Coutances in northwest France and placed in an artificial coma because of grave eye injuries, the national police service said. A total of 192 people were injured around the capital, four of them seriously, the Paris police chief said.\",\n",
       "  'score': 0.85097736},\n",
       " {'title': 'Two dead, 559 arrested in France clashes after PSG Champions ...',\n",
       "  'url': 'https://www.aljazeera.com/sports/2025/6/1/two-dead-hundreds-arrested-in-paris-clashes-after-psg-champions-league-win',\n",
       "  'content': 'The majority of fans celebrated peacefully, but police in Paris said scuffles broke out near the Champs-Elysees avenue, and around PSG’s Parc des Princes stadium, where 48,000 people had watched the 5-0 win on giant screens.\\n\\nMost of those arrested in the capital were suspected of illegally possessing fireworks and causing disorder, police said.\\n\\nThe PSG victory meant the club won the biggest prize in European club football for the first time in their history. [...] The Interior Ministry said on Sunday that 491 people were arrested in the capital after crowds converged on the Champs-Elysees avenue and clashes broke out with officers.\\n\\nAcross France, a total of 559 people were arrested, it added.\\n\\nThe authorities reported two deaths amid celebrations. A man riding a scooter in Paris died after being hit by a car in the city’s southern 15th arrondissement, located about 2km (1.2 miles) from the Champs-Elysees. [...] # Two dead, 559 arrested in France clashes after PSG Champions League win\\n\\n*Some 491 were arrested in Paris during post-match celebrations after Paris Saint-Germain’s Champions League win.*\\n\\n![Anti-riot police in action.](/wp-content/uploads/2025/06/2025-05-31T230135Z_274294525_UP1EL5V1RYLGZ_RTRMADP_3_SOCCER-CHAMPIONS-PSG-INT-FANS-PARIS-1748770271.jpg?resize=770%2C513&quality=80)',\n",
       "  'score': 0.8446273},\n",
       " {'title': 'Two dead and hundreds arrested in France after PSG Champions ...',\n",
       "  'url': 'https://www.youtube.com/watch?v=_dRZQITOc_A',\n",
       "  'content': \"Two people have died and hundreds have been arrested across France after Paris Saint-Germain (PSG) fans celebrated the club's victory in the\",\n",
       "  'score': 0.76888984},\n",
       " {'title': 'PSG Champions League celebrations erupt into chaos | DW News',\n",
       "  'url': 'https://www.youtube.com/watch?v=D7HyW7PEp2w',\n",
       "  'content': \"Paris erupted in celebration after PSG's historic 5-0 Champions League win over Inter Milan — but the night turned violent.\",\n",
       "  'score': 0.75809944}]"
      ]
     },
     "execution_count": 7,
     "metadata": {},
     "output_type": "execute_result"
    }
   ],
   "source": [
    "tool.invoke({\"query\":\"what happend in paris after victory celebration of psg?\"})"
   ]
  },
  {
   "cell_type": "markdown",
   "id": "6a2fb391",
   "metadata": {},
   "source": [
    "## Custom_tool"
   ]
  },
  {
   "cell_type": "code",
   "execution_count": 1,
   "id": "8f035e9a",
   "metadata": {},
   "outputs": [],
   "source": [
    "def multiply(a:int,b:int)->int:\n",
    "    return a*b"
   ]
  },
  {
   "cell_type": "code",
   "execution_count": 2,
   "id": "d88124dd",
   "metadata": {},
   "outputs": [
    {
     "data": {
      "text/plain": [
       "200"
      ]
     },
     "execution_count": 2,
     "metadata": {},
     "output_type": "execute_result"
    }
   ],
   "source": [
    "multiply(10,20)"
   ]
  },
  {
   "cell_type": "code",
   "execution_count": 3,
   "id": "d0df357a",
   "metadata": {},
   "outputs": [
    {
     "ename": "AttributeError",
     "evalue": "'function' object has no attribute 'run'",
     "output_type": "error",
     "traceback": [
      "\u001b[31m---------------------------------------------------------------------------\u001b[39m",
      "\u001b[31mAttributeError\u001b[39m                            Traceback (most recent call last)",
      "\u001b[36mCell\u001b[39m\u001b[36m \u001b[39m\u001b[32mIn[3]\u001b[39m\u001b[32m, line 1\u001b[39m\n\u001b[32m----> \u001b[39m\u001b[32m1\u001b[39m \u001b[43mmultiply\u001b[49m\u001b[43m.\u001b[49m\u001b[43mrun\u001b[49m(\u001b[32m10\u001b[39m,\u001b[32m20\u001b[39m)\n",
      "\u001b[31mAttributeError\u001b[39m: 'function' object has no attribute 'run'"
     ]
    }
   ],
   "source": [
    "multiply.run(10,20)"
   ]
  },
  {
   "cell_type": "code",
   "execution_count": 4,
   "id": "c0d14e4c",
   "metadata": {},
   "outputs": [
    {
     "ename": "AttributeError",
     "evalue": "'function' object has no attribute 'invoke'",
     "output_type": "error",
     "traceback": [
      "\u001b[31m---------------------------------------------------------------------------\u001b[39m",
      "\u001b[31mAttributeError\u001b[39m                            Traceback (most recent call last)",
      "\u001b[36mCell\u001b[39m\u001b[36m \u001b[39m\u001b[32mIn[4]\u001b[39m\u001b[32m, line 1\u001b[39m\n\u001b[32m----> \u001b[39m\u001b[32m1\u001b[39m \u001b[43mmultiply\u001b[49m\u001b[43m.\u001b[49m\u001b[43minvoke\u001b[49m(\u001b[32m10\u001b[39m,\u001b[32m20\u001b[39m)\n",
      "\u001b[31mAttributeError\u001b[39m: 'function' object has no attribute 'invoke'"
     ]
    }
   ],
   "source": [
    "multiply.invoke(10,20)"
   ]
  },
  {
   "cell_type": "code",
   "execution_count": 5,
   "id": "93420376",
   "metadata": {},
   "outputs": [],
   "source": [
    "from langchain.agents import tool\n",
    "@tool\n",
    "def multiply(a:int,b:int)->int:\n",
    "    '''this tool is for the multiplication'''\n",
    "    return a*b"
   ]
  },
  {
   "cell_type": "code",
   "execution_count": 6,
   "id": "7dfb4886",
   "metadata": {},
   "outputs": [
    {
     "data": {
      "text/plain": [
       "200"
      ]
     },
     "execution_count": 6,
     "metadata": {},
     "output_type": "execute_result"
    }
   ],
   "source": [
    "multiply.invoke({\"a\":10,\"b\":20})"
   ]
  },
  {
   "cell_type": "code",
   "execution_count": 7,
   "id": "d3432fa0",
   "metadata": {},
   "outputs": [
    {
     "data": {
      "text/plain": [
       "'multiply'"
      ]
     },
     "execution_count": 7,
     "metadata": {},
     "output_type": "execute_result"
    }
   ],
   "source": [
    "multiply.name"
   ]
  },
  {
   "cell_type": "code",
   "execution_count": 8,
   "id": "46a5cf14",
   "metadata": {},
   "outputs": [
    {
     "data": {
      "text/plain": [
       "'this tool is for the multiplication'"
      ]
     },
     "execution_count": 8,
     "metadata": {},
     "output_type": "execute_result"
    }
   ],
   "source": [
    "multiply.description"
   ]
  },
  {
   "cell_type": "code",
   "execution_count": 9,
   "id": "4116bacf",
   "metadata": {},
   "outputs": [
    {
     "data": {
      "text/plain": [
       "{'a': {'title': 'A', 'type': 'integer'},\n",
       " 'b': {'title': 'B', 'type': 'integer'}}"
      ]
     },
     "execution_count": 9,
     "metadata": {},
     "output_type": "execute_result"
    }
   ],
   "source": [
    "multiply.args"
   ]
  },
  {
   "cell_type": "code",
   "execution_count": 10,
   "id": "acbdb83e",
   "metadata": {},
   "outputs": [],
   "source": [
    "def get_word_length(word:str)->int:\n",
    "    return len(word)"
   ]
  },
  {
   "cell_type": "code",
   "execution_count": 11,
   "id": "411152d8",
   "metadata": {},
   "outputs": [
    {
     "data": {
      "text/plain": [
       "8"
      ]
     },
     "execution_count": 11,
     "metadata": {},
     "output_type": "execute_result"
    }
   ],
   "source": [
    "get_word_length(\"Yen Fred\")"
   ]
  },
  {
   "cell_type": "code",
   "execution_count": 12,
   "id": "2039b365",
   "metadata": {},
   "outputs": [
    {
     "data": {
      "text/plain": [
       "6"
      ]
     },
     "execution_count": 12,
     "metadata": {},
     "output_type": "execute_result"
    }
   ],
   "source": [
    "get_word_length(\"Oriole\")"
   ]
  },
  {
   "cell_type": "code",
   "execution_count": 13,
   "id": "2fdfe739",
   "metadata": {},
   "outputs": [],
   "source": [
    "@tool\n",
    "def get_word_length(word:str)->int:\n",
    "    \"\"\"this funtion is calculating a length of the word\"\"\"\n",
    "    return len(word)"
   ]
  },
  {
   "cell_type": "code",
   "execution_count": 14,
   "id": "278ef5c7",
   "metadata": {},
   "outputs": [
    {
     "data": {
      "text/plain": [
       "'get_word_length'"
      ]
     },
     "execution_count": 14,
     "metadata": {},
     "output_type": "execute_result"
    }
   ],
   "source": [
    "get_word_length.name"
   ]
  },
  {
   "cell_type": "code",
   "execution_count": 15,
   "id": "c5682fe0",
   "metadata": {},
   "outputs": [
    {
     "data": {
      "text/plain": [
       "'this funtion is calculating a length of the word'"
      ]
     },
     "execution_count": 15,
     "metadata": {},
     "output_type": "execute_result"
    }
   ],
   "source": [
    "get_word_length.description"
   ]
  },
  {
   "cell_type": "code",
   "execution_count": 16,
   "id": "e8bcd920",
   "metadata": {},
   "outputs": [
    {
     "data": {
      "text/plain": [
       "{'word': {'title': 'Word', 'type': 'string'}}"
      ]
     },
     "execution_count": 16,
     "metadata": {},
     "output_type": "execute_result"
    }
   ],
   "source": [
    "get_word_length.args"
   ]
  },
  {
   "cell_type": "code",
   "execution_count": 17,
   "id": "8643b2ec",
   "metadata": {},
   "outputs": [
    {
     "name": "stderr",
     "output_type": "stream",
     "text": [
      "C:\\Users\\p09276\\AppData\\Local\\Temp\\ipykernel_22768\\3293747341.py:1: LangChainDeprecationWarning: The method `BaseTool.__call__` was deprecated in langchain-core 0.1.47 and will be removed in 1.0. Use :meth:`~invoke` instead.\n",
      "  get_word_length(\"idrene\")\n"
     ]
    },
    {
     "data": {
      "text/plain": [
       "6"
      ]
     },
     "execution_count": 17,
     "metadata": {},
     "output_type": "execute_result"
    }
   ],
   "source": [
    "get_word_length(\"idrene\")"
   ]
  },
  {
   "cell_type": "code",
   "execution_count": 19,
   "id": "285869e7",
   "metadata": {},
   "outputs": [
    {
     "data": {
      "text/plain": [
       "6"
      ]
     },
     "execution_count": 19,
     "metadata": {},
     "output_type": "execute_result"
    }
   ],
   "source": [
    "get_word_length.invoke(\"idrene\")"
   ]
  },
  {
   "cell_type": "code",
   "execution_count": 20,
   "id": "a94c9519",
   "metadata": {},
   "outputs": [],
   "source": [
    "@tool\n",
    "def call_gamil_api(args):\n",
    "    \"\"\"this is my gamil api calling funtion\"\"\"\n",
    "    pass"
   ]
  },
  {
   "cell_type": "code",
   "execution_count": null,
   "id": "a3ea09ee",
   "metadata": {},
   "outputs": [],
   "source": []
  }
 ],
 "metadata": {
  "kernelspec": {
   "display_name": "my_virtual_lang",
   "language": "python",
   "name": "python3"
  },
  "language_info": {
   "codemirror_mode": {
    "name": "ipython",
    "version": 3
   },
   "file_extension": ".py",
   "mimetype": "text/x-python",
   "name": "python",
   "nbconvert_exporter": "python",
   "pygments_lexer": "ipython3",
   "version": "3.12.10"
  }
 },
 "nbformat": 4,
 "nbformat_minor": 5
}
